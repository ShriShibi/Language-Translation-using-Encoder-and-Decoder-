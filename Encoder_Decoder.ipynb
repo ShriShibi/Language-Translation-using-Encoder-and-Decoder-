{
  "nbformat": 4,
  "nbformat_minor": 0,
  "metadata": {
    "colab": {
      "name": "Encoder-Decoder",
      "provenance": [],
      "collapsed_sections": []
    },
    "kernelspec": {
      "name": "python3",
      "display_name": "Python 3"
    },
    "language_info": {
      "name": "python"
    },
    "accelerator": "GPU",
    "gpuClass": "standard"
  },
  "cells": [
    {
      "cell_type": "code",
      "source": [
        "\n",
        "import tensorflow as tf\n",
        "print(tf.__version__)"
      ],
      "metadata": {
        "colab": {
          "base_uri": "https://localhost:8080/"
        },
        "id": "FdjzRXZzcw5n",
        "outputId": "ed4866ff-2796-48b1-a56f-f59bc5032747"
      },
      "execution_count": 69,
      "outputs": [
        {
          "output_type": "stream",
          "name": "stdout",
          "text": [
            "2.8.2\n"
          ]
        }
      ]
    },
    {
      "cell_type": "code",
      "source": [
        "from google.colab import drive\n",
        "drive.mount('/content/drive')"
      ],
      "metadata": {
        "colab": {
          "base_uri": "https://localhost:8080/"
        },
        "id": "cYocipwZhj4z",
        "outputId": "4a8fb7ad-7902-4246-e28f-652b486411f2"
      },
      "execution_count": 70,
      "outputs": [
        {
          "output_type": "stream",
          "name": "stdout",
          "text": [
            "Drive already mounted at /content/drive; to attempt to forcibly remount, call drive.mount(\"/content/drive\", force_remount=True).\n"
          ]
        }
      ]
    },
    {
      "cell_type": "markdown",
      "source": [
        "# New Section"
      ],
      "metadata": {
        "id": "PXVflm9GgrAR"
      }
    },
    {
      "cell_type": "code",
      "source": [
        "from keras.models import Model\n",
        "from keras.layers import Input,LSTM, Dense\n",
        "import numpy as np"
      ],
      "metadata": {
        "id": "2lExxrIGdDCO"
      },
      "execution_count": 71,
      "outputs": []
    },
    {
      "cell_type": "code",
      "source": [
        "batch_size = 64\n",
        "epochs = 100\n",
        "latent_dim = 256\n",
        "num_samples = 10000\n",
        "\n",
        "data_path = '/content/drive/MyDrive/Colab Notebooks/fra.txt'"
      ],
      "metadata": {
        "id": "vTK-Lr1ldNgS"
      },
      "execution_count": 72,
      "outputs": []
    },
    {
      "cell_type": "code",
      "source": [
        "# Vectorize the data.\n",
        "input_texts = []\n",
        "target_texts = []\n",
        "input_characters = set()\n",
        "target_characters = set()\n"
      ],
      "metadata": {
        "id": "EnrNOKFpn7MQ"
      },
      "execution_count": 73,
      "outputs": []
    },
    {
      "cell_type": "code",
      "source": [
        "with open(data_path, 'r', encoding='utf-8') as f:\n",
        "  lines = f.read().split('\\n')\n",
        "\n",
        "lines[0:10]"
      ],
      "metadata": {
        "colab": {
          "base_uri": "https://localhost:8080/"
        },
        "id": "aeC1YdcDpDcf",
        "outputId": "d201a48f-0539-449f-e5a9-0fb3b21ec6e9"
      },
      "execution_count": 74,
      "outputs": [
        {
          "output_type": "execute_result",
          "data": {
            "text/plain": [
              "['Go.\\tVa !\\tCC-BY 2.0 (France) Attribution: tatoeba.org #2877272 (CM) & #1158250 (Wittydev)',\n",
              " 'Go.\\tMarche.\\tCC-BY 2.0 (France) Attribution: tatoeba.org #2877272 (CM) & #8090732 (Micsmithel)',\n",
              " 'Go.\\tBouge !\\tCC-BY 2.0 (France) Attribution: tatoeba.org #2877272 (CM) & #9022935 (Micsmithel)',\n",
              " 'Hi.\\tSalut !\\tCC-BY 2.0 (France) Attribution: tatoeba.org #538123 (CM) & #509819 (Aiji)',\n",
              " 'Hi.\\tSalut.\\tCC-BY 2.0 (France) Attribution: tatoeba.org #538123 (CM) & #4320462 (gillux)',\n",
              " 'Run!\\tCours\\u202f!\\tCC-BY 2.0 (France) Attribution: tatoeba.org #906328 (papabear) & #906331 (sacredceltic)',\n",
              " 'Run!\\tCourez\\u202f!\\tCC-BY 2.0 (France) Attribution: tatoeba.org #906328 (papabear) & #906332 (sacredceltic)',\n",
              " 'Run!\\tPrenez vos jambes à vos cous !\\tCC-BY 2.0 (France) Attribution: tatoeba.org #906328 (papabear) & #2077449 (sacredceltic)',\n",
              " 'Run!\\tFile !\\tCC-BY 2.0 (France) Attribution: tatoeba.org #906328 (papabear) & #2077454 (sacredceltic)',\n",
              " 'Run!\\tFilez !\\tCC-BY 2.0 (France) Attribution: tatoeba.org #906328 (papabear) & #2077455 (sacredceltic)']"
            ]
          },
          "metadata": {},
          "execution_count": 74
        }
      ]
    },
    {
      "cell_type": "code",
      "source": [
        "for line in lines[: min(num_samples, len(lines) - 1)]:\n",
        "  input_text, target_text,_= line.split('\\t')\n",
        "# We use \"tab\" as the \"start sequence\" character\n",
        "#for the targets, and \"\\n\" as \"end sequence\" character.\n",
        "  target_text = '\\t' + target_text + '\\n'\n",
        "  input_texts.append(input_text)\n",
        "  target_texts.append(target_text)\n",
        "  for char in input_text:\n",
        "    if char not in input_characters:\n",
        "      input_characters.add(char)\n",
        "  for char in target_text:\n",
        "    if char not in target_characters:\n",
        "      target_characters.add(char)"
      ],
      "metadata": {
        "id": "k3DLIHFtpTnT"
      },
      "execution_count": 75,
      "outputs": []
    },
    {
      "cell_type": "code",
      "source": [
        "input_characters"
      ],
      "metadata": {
        "colab": {
          "base_uri": "https://localhost:8080/"
        },
        "id": "zOX4OZOHqBrz",
        "outputId": "8345e8c8-b4a2-4cf5-dec5-ef8f794775dd"
      },
      "execution_count": 83,
      "outputs": [
        {
          "output_type": "execute_result",
          "data": {
            "text/plain": [
              "{' ',\n",
              " '!',\n",
              " '\"',\n",
              " '$',\n",
              " '%',\n",
              " '&',\n",
              " \"'\",\n",
              " ',',\n",
              " '-',\n",
              " '.',\n",
              " '0',\n",
              " '1',\n",
              " '2',\n",
              " '3',\n",
              " '5',\n",
              " '7',\n",
              " '8',\n",
              " '9',\n",
              " ':',\n",
              " '?',\n",
              " 'A',\n",
              " 'B',\n",
              " 'C',\n",
              " 'D',\n",
              " 'E',\n",
              " 'F',\n",
              " 'G',\n",
              " 'H',\n",
              " 'I',\n",
              " 'J',\n",
              " 'K',\n",
              " 'L',\n",
              " 'M',\n",
              " 'N',\n",
              " 'O',\n",
              " 'P',\n",
              " 'Q',\n",
              " 'R',\n",
              " 'S',\n",
              " 'T',\n",
              " 'U',\n",
              " 'V',\n",
              " 'W',\n",
              " 'Y',\n",
              " 'a',\n",
              " 'b',\n",
              " 'c',\n",
              " 'd',\n",
              " 'e',\n",
              " 'f',\n",
              " 'g',\n",
              " 'h',\n",
              " 'i',\n",
              " 'j',\n",
              " 'k',\n",
              " 'l',\n",
              " 'm',\n",
              " 'n',\n",
              " 'o',\n",
              " 'p',\n",
              " 'q',\n",
              " 'r',\n",
              " 's',\n",
              " 't',\n",
              " 'u',\n",
              " 'v',\n",
              " 'w',\n",
              " 'x',\n",
              " 'y',\n",
              " 'z',\n",
              " 'é'}"
            ]
          },
          "metadata": {},
          "execution_count": 83
        }
      ]
    },
    {
      "cell_type": "code",
      "source": [
        "#target_characters"
      ],
      "metadata": {
        "id": "hK-aI8ZFxq3f"
      },
      "execution_count": 86,
      "outputs": []
    },
    {
      "cell_type": "code",
      "source": [
        "input_characters = sorted(list(input_characters))\n",
        "target_characters = sorted(list(target_characters))\n",
        "num_encoder_tokens = len(input_characters)\n",
        "num_decoder_tokens = len(target_characters)\n",
        "max_encoder_seq_length = max([len(txt) for txt in input_texts])\n",
        "max_decoder_seq_length = max([len(txt) for txt in target_texts])"
      ],
      "metadata": {
        "id": "LHx3x7L1yDHK"
      },
      "execution_count": 91,
      "outputs": []
    },
    {
      "cell_type": "code",
      "source": [
        "print(' Number of samples: ', len(input_texts))\n",
        "print('Number of unique input tokens: ' , num_encoder_tokens)\n",
        "print('Number of unique output tokens: ', num_decoder_tokens)\n",
        "print('Max sequence length for inputs: ' , max_encoder_seq_length)\n",
        "print('Max sequence length for outputs: ' , max_decoder_seq_length)"
      ],
      "metadata": {
        "colab": {
          "base_uri": "https://localhost:8080/"
        },
        "id": "nCo_kP5s-jWw",
        "outputId": "75883a91-25a6-42f0-e8a5-9dfde0efcee9"
      },
      "execution_count": 92,
      "outputs": [
        {
          "output_type": "stream",
          "name": "stdout",
          "text": [
            " Number of samples:  10000\n",
            "Number of unique input tokens:  71\n",
            "Number of unique output tokens:  93\n",
            "Max sequence length for inputs:  15\n",
            "Max sequence length for outputs:  59\n"
          ]
        }
      ]
    },
    {
      "cell_type": "code",
      "source": [
        "input_token_index = dict(\n",
        "[(char, i) for i, char in enumerate(input_characters)])\n",
        "target_token_index = dict(\n",
        "[(char, i) for i, char in enumerate(target_characters)])"
      ],
      "metadata": {
        "id": "6SZkyalM-owx"
      },
      "execution_count": 93,
      "outputs": []
    },
    {
      "cell_type": "code",
      "source": [
        "input_token_index"
      ],
      "metadata": {
        "colab": {
          "base_uri": "https://localhost:8080/"
        },
        "id": "YVyCRzBF-vHr",
        "outputId": "cc8e8863-6597-4b7e-f3d5-68b90d97ee49"
      },
      "execution_count": 94,
      "outputs": [
        {
          "output_type": "execute_result",
          "data": {
            "text/plain": [
              "{' ': 0,\n",
              " '!': 1,\n",
              " '\"': 2,\n",
              " '$': 3,\n",
              " '%': 4,\n",
              " '&': 5,\n",
              " \"'\": 6,\n",
              " ',': 7,\n",
              " '-': 8,\n",
              " '.': 9,\n",
              " '0': 10,\n",
              " '1': 11,\n",
              " '2': 12,\n",
              " '3': 13,\n",
              " '5': 14,\n",
              " '7': 15,\n",
              " '8': 16,\n",
              " '9': 17,\n",
              " ':': 18,\n",
              " '?': 19,\n",
              " 'A': 20,\n",
              " 'B': 21,\n",
              " 'C': 22,\n",
              " 'D': 23,\n",
              " 'E': 24,\n",
              " 'F': 25,\n",
              " 'G': 26,\n",
              " 'H': 27,\n",
              " 'I': 28,\n",
              " 'J': 29,\n",
              " 'K': 30,\n",
              " 'L': 31,\n",
              " 'M': 32,\n",
              " 'N': 33,\n",
              " 'O': 34,\n",
              " 'P': 35,\n",
              " 'Q': 36,\n",
              " 'R': 37,\n",
              " 'S': 38,\n",
              " 'T': 39,\n",
              " 'U': 40,\n",
              " 'V': 41,\n",
              " 'W': 42,\n",
              " 'Y': 43,\n",
              " 'a': 44,\n",
              " 'b': 45,\n",
              " 'c': 46,\n",
              " 'd': 47,\n",
              " 'e': 48,\n",
              " 'f': 49,\n",
              " 'g': 50,\n",
              " 'h': 51,\n",
              " 'i': 52,\n",
              " 'j': 53,\n",
              " 'k': 54,\n",
              " 'l': 55,\n",
              " 'm': 56,\n",
              " 'n': 57,\n",
              " 'o': 58,\n",
              " 'p': 59,\n",
              " 'q': 60,\n",
              " 'r': 61,\n",
              " 's': 62,\n",
              " 't': 63,\n",
              " 'u': 64,\n",
              " 'v': 65,\n",
              " 'w': 66,\n",
              " 'x': 67,\n",
              " 'y': 68,\n",
              " 'z': 69,\n",
              " 'é': 70}"
            ]
          },
          "metadata": {},
          "execution_count": 94
        }
      ]
    },
    {
      "cell_type": "code",
      "source": [
        "encoder_input_data = np.zeros(\n",
        "(len(input_texts), max_encoder_seq_length, num_encoder_tokens),\n",
        "dtype='float32')\n",
        "decoder_input_data = np.zeros(\n",
        "(len(input_texts), max_decoder_seq_length, num_decoder_tokens),\n",
        "dtype='float32')\n",
        "decoder_target_data = np.zeros(\n",
        "(len(input_texts), max_decoder_seq_length, num_decoder_tokens),\n",
        "dtype= 'float32')"
      ],
      "metadata": {
        "id": "RfjbXBqt-xeI"
      },
      "execution_count": 96,
      "outputs": []
    },
    {
      "cell_type": "code",
      "source": [
        "input_texts[1:10]"
      ],
      "metadata": {
        "colab": {
          "base_uri": "https://localhost:8080/"
        },
        "id": "HNNuNNQ9--qp",
        "outputId": "9155c3c6-adca-4eb9-c55f-6c8232f91d85"
      },
      "execution_count": 112,
      "outputs": [
        {
          "output_type": "execute_result",
          "data": {
            "text/plain": [
              "['Go.', 'Go.', 'Hi.', 'Hi.', 'Run!', 'Run!', 'Run!', 'Run!', 'Run!']"
            ]
          },
          "metadata": {},
          "execution_count": 112
        }
      ]
    },
    {
      "cell_type": "code",
      "source": [
        "for i, (input_text, target_text) in enumerate(zip(input_texts, target_texts)):\n",
        "  for t, char in enumerate(input_text):\n",
        "    encoder_input_data[i, t, input_token_index[char]] = 1.\n",
        "  encoder_input_data[i, t + 1 :, input_token_index[ ' ' ]] = 1.\n",
        "  for t, char in enumerate(target_text):\n",
        "    #decoder_target_data is ahead of decoder_input_data by one timestep\n",
        "    decoder_input_data[i, t, target_token_index[char]] = 1.\n",
        "    if t > 0:\n",
        "    #decoder_target_data will be ahead by one timestep\n",
        "    # and will not include the start character.\n",
        "      decoder_target_data[i, t - 1, target_token_index[char]] = 1.\n",
        "  decoder_input_data[i, t + 1 :, target_token_index[' ']] = 1.\n",
        "  decoder_target_data[i, t :, target_token_index[' ']] = 1."
      ],
      "metadata": {
        "id": "kP1pGRUa_r4o"
      },
      "execution_count": 109,
      "outputs": []
    },
    {
      "cell_type": "code",
      "source": [
        "encoder_input_data.shape"
      ],
      "metadata": {
        "colab": {
          "base_uri": "https://localhost:8080/"
        },
        "id": "5KaxokcpBkoY",
        "outputId": "e8c5b78a-3939-4c68-c356-15609ed0dd6a"
      },
      "execution_count": 116,
      "outputs": [
        {
          "output_type": "execute_result",
          "data": {
            "text/plain": [
              "(10000, 15, 71)"
            ]
          },
          "metadata": {},
          "execution_count": 116
        }
      ]
    },
    {
      "cell_type": "code",
      "source": [
        "decoder_input_data.shape"
      ],
      "metadata": {
        "colab": {
          "base_uri": "https://localhost:8080/"
        },
        "id": "oeR2hruzCFNF",
        "outputId": "a2455fe4-ce9e-42bc-ebcd-bcdd5cf8204c"
      },
      "execution_count": 117,
      "outputs": [
        {
          "output_type": "execute_result",
          "data": {
            "text/plain": [
              "(10000, 59, 93)"
            ]
          },
          "metadata": {},
          "execution_count": 117
        }
      ]
    },
    {
      "cell_type": "code",
      "source": [
        "# Define an input sequence and process it.\n",
        "encoder_inputs = Input(shape=(None, num_encoder_tokens))\n",
        "encoder = LSTM(latent_dim, return_state=True)\n",
        "encoder_outputs, state_h, state_c = encoder(encoder_inputs)\n",
        "#We discard encoder_outputs and only keep the states.\n",
        "encoder_states = [state_h, state_c]"
      ],
      "metadata": {
        "id": "dK0yZNXkFhLg"
      },
      "execution_count": 118,
      "outputs": []
    },
    {
      "cell_type": "code",
      "source": [
        "#Set up the decoder, using encoder_states` as initial state.\n",
        "decoder_inputs = Input(shape=(None, num_decoder_tokens))\n",
        "#We set up our decoder to return full output sequences,\n",
        "# and to return internal states as well. We don't use the\n",
        "# return states in the training model, but we will use them in inference.\n",
        "decoder_1stm = LSTM(latent_dim, return_sequences=True, return_state=True)\n",
        "decoder_outputs, _, _ = decoder_1stm(decoder_inputs,initial_state=encoder_states)\n",
        "decoder_dense = Dense(num_decoder_tokens, activation= 'softmax')\n",
        "decoder_outputs = decoder_dense(decoder_outputs)"
      ],
      "metadata": {
        "id": "V_3zeJ9BIY3K"
      },
      "execution_count": 121,
      "outputs": []
    },
    {
      "cell_type": "code",
      "source": [
        "# Define the model that will turn\n",
        "# encoder_input_data` & decoder_input_data into decoder_target_data`\n",
        "model = Model([encoder_inputs, decoder_inputs], decoder_outputs)\n",
        "#Run training\n",
        "model.compile(optimizer= 'rmsprop', loss= 'categorical_crossentropy',metrics=['accuracy'])\n",
        "model.fit([encoder_input_data, decoder_input_data], decoder_target_data,\n",
        "batch_size=batch_size,epochs= epochs, validation_split=0.2)"
      ],
      "metadata": {
        "colab": {
          "base_uri": "https://localhost:8080/"
        },
        "id": "a7Y2J96BIe3Z",
        "outputId": "0ee77fa6-185c-44a9-924c-931207ce5a81"
      },
      "execution_count": 123,
      "outputs": [
        {
          "output_type": "stream",
          "name": "stdout",
          "text": [
            "Epoch 1/100\n",
            "125/125 [==============================] - 10s 21ms/step - loss: 1.1251 - accuracy: 0.7369 - val_loss: 1.0536 - val_accuracy: 0.7141\n",
            "Epoch 2/100\n",
            "125/125 [==============================] - 2s 12ms/step - loss: 0.8154 - accuracy: 0.7806 - val_loss: 0.8255 - val_accuracy: 0.7690\n",
            "Epoch 3/100\n",
            "125/125 [==============================] - 2s 13ms/step - loss: 0.6600 - accuracy: 0.8159 - val_loss: 0.7131 - val_accuracy: 0.7951\n",
            "Epoch 4/100\n",
            "125/125 [==============================] - 2s 13ms/step - loss: 0.5774 - accuracy: 0.8324 - val_loss: 0.6395 - val_accuracy: 0.8119\n",
            "Epoch 5/100\n",
            "125/125 [==============================] - 2s 13ms/step - loss: 0.5285 - accuracy: 0.8454 - val_loss: 0.5899 - val_accuracy: 0.8278\n",
            "Epoch 6/100\n",
            "125/125 [==============================] - 2s 13ms/step - loss: 0.4921 - accuracy: 0.8555 - val_loss: 0.5618 - val_accuracy: 0.8360\n",
            "Epoch 7/100\n",
            "125/125 [==============================] - 2s 13ms/step - loss: 0.4635 - accuracy: 0.8630 - val_loss: 0.5441 - val_accuracy: 0.8391\n",
            "Epoch 8/100\n",
            "125/125 [==============================] - 2s 12ms/step - loss: 0.4403 - accuracy: 0.8688 - val_loss: 0.5267 - val_accuracy: 0.8443\n",
            "Epoch 9/100\n",
            "125/125 [==============================] - 2s 13ms/step - loss: 0.4201 - accuracy: 0.8748 - val_loss: 0.5043 - val_accuracy: 0.8513\n",
            "Epoch 10/100\n",
            "125/125 [==============================] - 2s 13ms/step - loss: 0.4014 - accuracy: 0.8799 - val_loss: 0.4945 - val_accuracy: 0.8542\n",
            "Epoch 11/100\n",
            "125/125 [==============================] - 2s 13ms/step - loss: 0.3851 - accuracy: 0.8844 - val_loss: 0.4795 - val_accuracy: 0.8584\n",
            "Epoch 12/100\n",
            "125/125 [==============================] - 2s 13ms/step - loss: 0.3695 - accuracy: 0.8889 - val_loss: 0.4759 - val_accuracy: 0.8587\n",
            "Epoch 13/100\n",
            "125/125 [==============================] - 2s 13ms/step - loss: 0.3546 - accuracy: 0.8931 - val_loss: 0.4655 - val_accuracy: 0.8629\n",
            "Epoch 14/100\n",
            "125/125 [==============================] - 2s 13ms/step - loss: 0.3406 - accuracy: 0.8973 - val_loss: 0.4609 - val_accuracy: 0.8635\n",
            "Epoch 15/100\n",
            "125/125 [==============================] - 2s 13ms/step - loss: 0.3283 - accuracy: 0.9009 - val_loss: 0.4536 - val_accuracy: 0.8669\n",
            "Epoch 16/100\n",
            "125/125 [==============================] - 2s 13ms/step - loss: 0.3160 - accuracy: 0.9049 - val_loss: 0.4529 - val_accuracy: 0.8667\n",
            "Epoch 17/100\n",
            "125/125 [==============================] - 2s 13ms/step - loss: 0.3040 - accuracy: 0.9082 - val_loss: 0.4458 - val_accuracy: 0.8706\n",
            "Epoch 18/100\n",
            "125/125 [==============================] - 2s 13ms/step - loss: 0.2935 - accuracy: 0.9115 - val_loss: 0.4441 - val_accuracy: 0.8709\n",
            "Epoch 19/100\n",
            "125/125 [==============================] - 2s 13ms/step - loss: 0.2823 - accuracy: 0.9147 - val_loss: 0.4480 - val_accuracy: 0.8693\n",
            "Epoch 20/100\n",
            "125/125 [==============================] - 2s 13ms/step - loss: 0.2730 - accuracy: 0.9173 - val_loss: 0.4454 - val_accuracy: 0.8722\n",
            "Epoch 21/100\n",
            "125/125 [==============================] - 2s 13ms/step - loss: 0.2636 - accuracy: 0.9203 - val_loss: 0.4449 - val_accuracy: 0.8722\n",
            "Epoch 22/100\n",
            "125/125 [==============================] - 2s 13ms/step - loss: 0.2542 - accuracy: 0.9231 - val_loss: 0.4432 - val_accuracy: 0.8742\n",
            "Epoch 23/100\n",
            "125/125 [==============================] - 2s 14ms/step - loss: 0.2459 - accuracy: 0.9256 - val_loss: 0.4459 - val_accuracy: 0.8737\n",
            "Epoch 24/100\n",
            "125/125 [==============================] - 2s 13ms/step - loss: 0.2379 - accuracy: 0.9281 - val_loss: 0.4452 - val_accuracy: 0.8750\n",
            "Epoch 25/100\n",
            "125/125 [==============================] - 2s 14ms/step - loss: 0.2294 - accuracy: 0.9302 - val_loss: 0.4530 - val_accuracy: 0.8735\n",
            "Epoch 26/100\n",
            "125/125 [==============================] - 2s 15ms/step - loss: 0.2223 - accuracy: 0.9326 - val_loss: 0.4518 - val_accuracy: 0.8742\n",
            "Epoch 27/100\n",
            "125/125 [==============================] - 2s 13ms/step - loss: 0.2152 - accuracy: 0.9345 - val_loss: 0.4526 - val_accuracy: 0.8763\n",
            "Epoch 28/100\n",
            "125/125 [==============================] - 2s 13ms/step - loss: 0.2078 - accuracy: 0.9370 - val_loss: 0.4552 - val_accuracy: 0.8761\n",
            "Epoch 29/100\n",
            "125/125 [==============================] - 2s 13ms/step - loss: 0.2017 - accuracy: 0.9386 - val_loss: 0.4610 - val_accuracy: 0.8756\n",
            "Epoch 30/100\n",
            "125/125 [==============================] - 2s 17ms/step - loss: 0.1951 - accuracy: 0.9408 - val_loss: 0.4654 - val_accuracy: 0.8752\n",
            "Epoch 31/100\n",
            "125/125 [==============================] - 2s 18ms/step - loss: 0.1891 - accuracy: 0.9423 - val_loss: 0.4692 - val_accuracy: 0.8750\n",
            "Epoch 32/100\n",
            "125/125 [==============================] - 2s 13ms/step - loss: 0.1836 - accuracy: 0.9441 - val_loss: 0.4731 - val_accuracy: 0.8759\n",
            "Epoch 33/100\n",
            "125/125 [==============================] - 2s 13ms/step - loss: 0.1781 - accuracy: 0.9455 - val_loss: 0.4735 - val_accuracy: 0.8750\n",
            "Epoch 34/100\n",
            "125/125 [==============================] - 2s 16ms/step - loss: 0.1728 - accuracy: 0.9472 - val_loss: 0.4817 - val_accuracy: 0.8743\n",
            "Epoch 35/100\n",
            "125/125 [==============================] - 2s 15ms/step - loss: 0.1677 - accuracy: 0.9487 - val_loss: 0.4880 - val_accuracy: 0.8746\n",
            "Epoch 36/100\n",
            "125/125 [==============================] - 2s 13ms/step - loss: 0.1629 - accuracy: 0.9500 - val_loss: 0.4924 - val_accuracy: 0.8750\n",
            "Epoch 37/100\n",
            "125/125 [==============================] - 2s 13ms/step - loss: 0.1585 - accuracy: 0.9514 - val_loss: 0.4941 - val_accuracy: 0.8752\n",
            "Epoch 38/100\n",
            "125/125 [==============================] - 2s 13ms/step - loss: 0.1538 - accuracy: 0.9526 - val_loss: 0.4995 - val_accuracy: 0.8744\n",
            "Epoch 39/100\n",
            "125/125 [==============================] - 2s 13ms/step - loss: 0.1495 - accuracy: 0.9540 - val_loss: 0.5005 - val_accuracy: 0.8752\n",
            "Epoch 40/100\n",
            "125/125 [==============================] - 2s 13ms/step - loss: 0.1457 - accuracy: 0.9551 - val_loss: 0.5069 - val_accuracy: 0.8749\n",
            "Epoch 41/100\n",
            "125/125 [==============================] - 2s 13ms/step - loss: 0.1420 - accuracy: 0.9560 - val_loss: 0.5186 - val_accuracy: 0.8735\n",
            "Epoch 42/100\n",
            "125/125 [==============================] - 2s 13ms/step - loss: 0.1382 - accuracy: 0.9574 - val_loss: 0.5142 - val_accuracy: 0.8754\n",
            "Epoch 43/100\n",
            "125/125 [==============================] - 2s 13ms/step - loss: 0.1346 - accuracy: 0.9585 - val_loss: 0.5240 - val_accuracy: 0.8752\n",
            "Epoch 44/100\n",
            "125/125 [==============================] - 2s 13ms/step - loss: 0.1312 - accuracy: 0.9594 - val_loss: 0.5318 - val_accuracy: 0.8746\n",
            "Epoch 45/100\n",
            "125/125 [==============================] - 2s 13ms/step - loss: 0.1279 - accuracy: 0.9602 - val_loss: 0.5326 - val_accuracy: 0.8743\n",
            "Epoch 46/100\n",
            "125/125 [==============================] - 2s 13ms/step - loss: 0.1250 - accuracy: 0.9613 - val_loss: 0.5372 - val_accuracy: 0.8743\n",
            "Epoch 47/100\n",
            "125/125 [==============================] - 2s 13ms/step - loss: 0.1215 - accuracy: 0.9622 - val_loss: 0.5406 - val_accuracy: 0.8741\n",
            "Epoch 48/100\n",
            "125/125 [==============================] - 2s 13ms/step - loss: 0.1190 - accuracy: 0.9630 - val_loss: 0.5496 - val_accuracy: 0.8741\n",
            "Epoch 49/100\n",
            "125/125 [==============================] - 2s 13ms/step - loss: 0.1162 - accuracy: 0.9637 - val_loss: 0.5520 - val_accuracy: 0.8744\n",
            "Epoch 50/100\n",
            "125/125 [==============================] - 2s 13ms/step - loss: 0.1133 - accuracy: 0.9646 - val_loss: 0.5557 - val_accuracy: 0.8746\n",
            "Epoch 51/100\n",
            "125/125 [==============================] - 2s 13ms/step - loss: 0.1107 - accuracy: 0.9654 - val_loss: 0.5631 - val_accuracy: 0.8740\n",
            "Epoch 52/100\n",
            "125/125 [==============================] - 2s 13ms/step - loss: 0.1081 - accuracy: 0.9661 - val_loss: 0.5648 - val_accuracy: 0.8737\n",
            "Epoch 53/100\n",
            "125/125 [==============================] - 2s 13ms/step - loss: 0.1059 - accuracy: 0.9666 - val_loss: 0.5707 - val_accuracy: 0.8731\n",
            "Epoch 54/100\n",
            "125/125 [==============================] - 2s 13ms/step - loss: 0.1035 - accuracy: 0.9674 - val_loss: 0.5737 - val_accuracy: 0.8737\n",
            "Epoch 55/100\n",
            "125/125 [==============================] - 2s 13ms/step - loss: 0.1010 - accuracy: 0.9683 - val_loss: 0.5794 - val_accuracy: 0.8748\n",
            "Epoch 56/100\n",
            "125/125 [==============================] - 2s 13ms/step - loss: 0.0990 - accuracy: 0.9686 - val_loss: 0.5836 - val_accuracy: 0.8741\n",
            "Epoch 57/100\n",
            "125/125 [==============================] - 2s 13ms/step - loss: 0.0970 - accuracy: 0.9693 - val_loss: 0.5948 - val_accuracy: 0.8734\n",
            "Epoch 58/100\n",
            "125/125 [==============================] - 2s 13ms/step - loss: 0.0952 - accuracy: 0.9698 - val_loss: 0.5963 - val_accuracy: 0.8734\n",
            "Epoch 59/100\n",
            "125/125 [==============================] - 2s 14ms/step - loss: 0.0929 - accuracy: 0.9706 - val_loss: 0.6005 - val_accuracy: 0.8735\n",
            "Epoch 60/100\n",
            "125/125 [==============================] - 2s 13ms/step - loss: 0.0913 - accuracy: 0.9710 - val_loss: 0.6034 - val_accuracy: 0.8733\n",
            "Epoch 61/100\n",
            "125/125 [==============================] - 2s 13ms/step - loss: 0.0897 - accuracy: 0.9713 - val_loss: 0.6134 - val_accuracy: 0.8735\n",
            "Epoch 62/100\n",
            "125/125 [==============================] - 2s 13ms/step - loss: 0.0877 - accuracy: 0.9720 - val_loss: 0.6132 - val_accuracy: 0.8735\n",
            "Epoch 63/100\n",
            "125/125 [==============================] - 2s 13ms/step - loss: 0.0864 - accuracy: 0.9723 - val_loss: 0.6147 - val_accuracy: 0.8732\n",
            "Epoch 64/100\n",
            "125/125 [==============================] - 2s 13ms/step - loss: 0.0844 - accuracy: 0.9728 - val_loss: 0.6219 - val_accuracy: 0.8736\n",
            "Epoch 65/100\n",
            "125/125 [==============================] - 2s 13ms/step - loss: 0.0830 - accuracy: 0.9734 - val_loss: 0.6255 - val_accuracy: 0.8735\n",
            "Epoch 66/100\n",
            "125/125 [==============================] - 2s 13ms/step - loss: 0.0813 - accuracy: 0.9736 - val_loss: 0.6320 - val_accuracy: 0.8729\n",
            "Epoch 67/100\n",
            "125/125 [==============================] - 2s 13ms/step - loss: 0.0800 - accuracy: 0.9739 - val_loss: 0.6362 - val_accuracy: 0.8737\n",
            "Epoch 68/100\n",
            "125/125 [==============================] - 2s 13ms/step - loss: 0.0784 - accuracy: 0.9745 - val_loss: 0.6418 - val_accuracy: 0.8735\n",
            "Epoch 69/100\n",
            "125/125 [==============================] - 2s 13ms/step - loss: 0.0773 - accuracy: 0.9747 - val_loss: 0.6457 - val_accuracy: 0.8737\n",
            "Epoch 70/100\n",
            "125/125 [==============================] - 2s 13ms/step - loss: 0.0755 - accuracy: 0.9752 - val_loss: 0.6475 - val_accuracy: 0.8727\n",
            "Epoch 71/100\n",
            "125/125 [==============================] - 2s 13ms/step - loss: 0.0742 - accuracy: 0.9756 - val_loss: 0.6536 - val_accuracy: 0.8725\n",
            "Epoch 72/100\n",
            "125/125 [==============================] - 2s 13ms/step - loss: 0.0732 - accuracy: 0.9760 - val_loss: 0.6520 - val_accuracy: 0.8726\n",
            "Epoch 73/100\n",
            "125/125 [==============================] - 2s 13ms/step - loss: 0.0719 - accuracy: 0.9764 - val_loss: 0.6627 - val_accuracy: 0.8724\n",
            "Epoch 74/100\n",
            "125/125 [==============================] - 2s 13ms/step - loss: 0.0707 - accuracy: 0.9768 - val_loss: 0.6606 - val_accuracy: 0.8731\n",
            "Epoch 75/100\n",
            "125/125 [==============================] - 2s 13ms/step - loss: 0.0693 - accuracy: 0.9770 - val_loss: 0.6711 - val_accuracy: 0.8719\n",
            "Epoch 76/100\n",
            "125/125 [==============================] - 2s 13ms/step - loss: 0.0689 - accuracy: 0.9770 - val_loss: 0.6730 - val_accuracy: 0.8720\n",
            "Epoch 77/100\n",
            "125/125 [==============================] - 2s 13ms/step - loss: 0.0678 - accuracy: 0.9775 - val_loss: 0.6757 - val_accuracy: 0.8720\n",
            "Epoch 78/100\n",
            "125/125 [==============================] - 2s 13ms/step - loss: 0.0664 - accuracy: 0.9778 - val_loss: 0.6768 - val_accuracy: 0.8723\n",
            "Epoch 79/100\n",
            "125/125 [==============================] - 2s 13ms/step - loss: 0.0653 - accuracy: 0.9780 - val_loss: 0.6765 - val_accuracy: 0.8726\n",
            "Epoch 80/100\n",
            "125/125 [==============================] - 2s 13ms/step - loss: 0.0641 - accuracy: 0.9785 - val_loss: 0.6870 - val_accuracy: 0.8728\n",
            "Epoch 81/100\n",
            "125/125 [==============================] - 2s 13ms/step - loss: 0.0636 - accuracy: 0.9786 - val_loss: 0.6850 - val_accuracy: 0.8719\n",
            "Epoch 82/100\n",
            "125/125 [==============================] - 2s 13ms/step - loss: 0.0624 - accuracy: 0.9789 - val_loss: 0.6925 - val_accuracy: 0.8720\n",
            "Epoch 83/100\n",
            "125/125 [==============================] - 2s 13ms/step - loss: 0.0614 - accuracy: 0.9793 - val_loss: 0.6925 - val_accuracy: 0.8728\n",
            "Epoch 84/100\n",
            "125/125 [==============================] - 2s 13ms/step - loss: 0.0606 - accuracy: 0.9791 - val_loss: 0.7051 - val_accuracy: 0.8718\n",
            "Epoch 85/100\n",
            "125/125 [==============================] - 2s 13ms/step - loss: 0.0598 - accuracy: 0.9795 - val_loss: 0.7087 - val_accuracy: 0.8710\n",
            "Epoch 86/100\n",
            "125/125 [==============================] - 2s 13ms/step - loss: 0.0587 - accuracy: 0.9800 - val_loss: 0.7030 - val_accuracy: 0.8719\n",
            "Epoch 87/100\n",
            "125/125 [==============================] - 2s 13ms/step - loss: 0.0581 - accuracy: 0.9801 - val_loss: 0.7089 - val_accuracy: 0.8715\n",
            "Epoch 88/100\n",
            "125/125 [==============================] - 2s 13ms/step - loss: 0.0571 - accuracy: 0.9802 - val_loss: 0.7090 - val_accuracy: 0.8721\n",
            "Epoch 89/100\n",
            "125/125 [==============================] - 2s 13ms/step - loss: 0.0563 - accuracy: 0.9806 - val_loss: 0.7107 - val_accuracy: 0.8723\n",
            "Epoch 90/100\n",
            "125/125 [==============================] - 2s 14ms/step - loss: 0.0555 - accuracy: 0.9808 - val_loss: 0.7236 - val_accuracy: 0.8708\n",
            "Epoch 91/100\n",
            "125/125 [==============================] - 2s 13ms/step - loss: 0.0552 - accuracy: 0.9808 - val_loss: 0.7237 - val_accuracy: 0.8714\n",
            "Epoch 92/100\n",
            "125/125 [==============================] - 2s 13ms/step - loss: 0.0539 - accuracy: 0.9811 - val_loss: 0.7268 - val_accuracy: 0.8709\n",
            "Epoch 93/100\n",
            "125/125 [==============================] - 2s 13ms/step - loss: 0.0537 - accuracy: 0.9812 - val_loss: 0.7257 - val_accuracy: 0.8719\n",
            "Epoch 94/100\n",
            "125/125 [==============================] - 2s 13ms/step - loss: 0.0526 - accuracy: 0.9817 - val_loss: 0.7361 - val_accuracy: 0.8716\n",
            "Epoch 95/100\n",
            "125/125 [==============================] - 2s 13ms/step - loss: 0.0522 - accuracy: 0.9817 - val_loss: 0.7398 - val_accuracy: 0.8706\n",
            "Epoch 96/100\n",
            "125/125 [==============================] - 2s 13ms/step - loss: 0.0514 - accuracy: 0.9820 - val_loss: 0.7372 - val_accuracy: 0.8710\n",
            "Epoch 97/100\n",
            "125/125 [==============================] - 2s 13ms/step - loss: 0.0510 - accuracy: 0.9820 - val_loss: 0.7359 - val_accuracy: 0.8720\n",
            "Epoch 98/100\n",
            "125/125 [==============================] - 2s 13ms/step - loss: 0.0503 - accuracy: 0.9824 - val_loss: 0.7458 - val_accuracy: 0.8713\n",
            "Epoch 99/100\n",
            "125/125 [==============================] - 2s 13ms/step - loss: 0.0496 - accuracy: 0.9822 - val_loss: 0.7454 - val_accuracy: 0.8715\n",
            "Epoch 100/100\n",
            "125/125 [==============================] - 2s 13ms/step - loss: 0.0491 - accuracy: 0.9825 - val_loss: 0.7461 - val_accuracy: 0.8708\n"
          ]
        },
        {
          "output_type": "execute_result",
          "data": {
            "text/plain": [
              "<keras.callbacks.History at 0x7feacda7fe10>"
            ]
          },
          "metadata": {},
          "execution_count": 123
        }
      ]
    },
    {
      "cell_type": "code",
      "source": [
        ""
      ],
      "metadata": {
        "id": "r7pnbe8rKAZD"
      },
      "execution_count": null,
      "outputs": []
    }
  ]
}